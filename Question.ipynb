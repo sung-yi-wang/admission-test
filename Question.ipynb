{
 "cells": [
  {
   "cell_type": "markdown",
   "id": "6acfd539",
   "metadata": {},
   "source": [
    "<h2>Question 1:</h2>\n",
    "\n",
    "You are required to complete the following two functions.\n",
    "\n",
    "1. <code>find_max</code>: find the max value of an array of numbers.\n",
    "2. <code>find_position</code>: find the first position of the target number inside an array of numbers. The position should be counted starting from 0, if you can't find the target, please return -1.\n",
    "\n",
    "<b>Reminder</b>: you <b><u>cannot</u></b> use those built-in functions like max() and index() to complete this assignment, please implement it by yourself."
   ]
  },
  {
   "cell_type": "code",
   "execution_count": 1,
   "id": "67ae3b99",
   "metadata": {},
   "outputs": [],
   "source": [
    "def find_max(numbers):\n",
    "    max_num = numbers[0]\n",
    "    for i in numbers:\n",
    "        if i > max_num:\n",
    "            max_num = i\n",
    "    return max_num"
   ]
  },
  {
   "cell_type": "code",
   "execution_count": 2,
   "id": "5555d06a",
   "metadata": {},
   "outputs": [
    {
     "name": "stdout",
     "output_type": "stream",
     "text": [
      "5\n"
     ]
    }
   ],
   "source": [
    "print(find_max([1, 2, 4, 5]) ); # should print 5"
   ]
  },
  {
   "cell_type": "code",
   "execution_count": 3,
   "id": "d79b99d5",
   "metadata": {},
   "outputs": [
    {
     "name": "stdout",
     "output_type": "stream",
     "text": [
      "7\n"
     ]
    }
   ],
   "source": [
    "print(find_max([5, 2, 7, 1, 6]) ); # should print 7"
   ]
  },
  {
   "cell_type": "code",
   "execution_count": 4,
   "id": "b1db061a",
   "metadata": {},
   "outputs": [],
   "source": [
    "def find_position(numbers, target):\n",
    "    result = -1\n",
    "    for i, v in enumerate(numbers):\n",
    "        if v == target and result == -1:\n",
    "            result = i\n",
    "    return result"
   ]
  },
  {
   "cell_type": "code",
   "execution_count": 5,
   "id": "4773d04a",
   "metadata": {},
   "outputs": [
    {
     "name": "stdout",
     "output_type": "stream",
     "text": [
      "0\n"
     ]
    }
   ],
   "source": [
    "print(find_position([5, 2, 7, 1, 6], 5)) # should print 0"
   ]
  },
  {
   "cell_type": "code",
   "execution_count": 6,
   "id": "a9fab260",
   "metadata": {},
   "outputs": [
    {
     "name": "stdout",
     "output_type": "stream",
     "text": [
      "2\n"
     ]
    }
   ],
   "source": [
    "print(find_position([5, 2, 7, 1, 6], 7)) # should print 2"
   ]
  },
  {
   "cell_type": "code",
   "execution_count": 7,
   "id": "3582702b",
   "metadata": {},
   "outputs": [
    {
     "name": "stdout",
     "output_type": "stream",
     "text": [
      "2\n"
     ]
    }
   ],
   "source": [
    "print(find_position([5, 2, 7, 7, 7, 1, 6], 7)) # should print 2 (the first one)"
   ]
  },
  {
   "cell_type": "code",
   "execution_count": 8,
   "id": "80e9c513",
   "metadata": {},
   "outputs": [
    {
     "name": "stdout",
     "output_type": "stream",
     "text": [
      "-1\n"
     ]
    }
   ],
   "source": [
    "print(find_position([5, 2, 7, 1, 6], 8)) # should print -1"
   ]
  },
  {
   "cell_type": "markdown",
   "id": "d5f69191",
   "metadata": {},
   "source": [
    "<h2>Question 2:</h2>\n",
    "\n",
    "Complete the following functions by Python\n",
    "1. <code>count</code>: return an object which shows the count of each character.\n",
    "2. <code>group_by_key</code>: return an object which shows the summed up value of each key.\n",
    "\n",
    "Note:\n",
    "1. The input format is different for these two functions.\n",
    "2. In the second function, the input may have the same key but different values, the output should have each key only once."
   ]
  },
  {
   "cell_type": "code",
   "execution_count": 9,
   "id": "ca3fd900",
   "metadata": {},
   "outputs": [],
   "source": [
    "def count(input):\n",
    "    result = dict.fromkeys(set(input1), 0)\n",
    "    for i in input:\n",
    "        result[i] += 1\n",
    "    return result"
   ]
  },
  {
   "cell_type": "code",
   "execution_count": 10,
   "id": "43d91f51",
   "metadata": {},
   "outputs": [
    {
     "name": "stdout",
     "output_type": "stream",
     "text": [
      "{'b': 1, 'c': 2, 'x': 1, 'a': 3}\n"
     ]
    }
   ],
   "source": [
    "input1 = ['a', 'b', 'c', 'a', 'c', 'a', 'x']\n",
    "print(count(input1)) # should print {'a': 3, 'b': 1, 'c': 2, 'x': 1}"
   ]
  },
  {
   "cell_type": "code",
   "execution_count": 11,
   "id": "146aff13",
   "metadata": {},
   "outputs": [],
   "source": [
    "def group_by_key(input):\n",
    "    result = {}\n",
    "    for i in input:\n",
    "        if result.get(i['key']) is None:\n",
    "            result[i['key']] = i['value']\n",
    "        else:\n",
    "            result[i['key']] += i['value']\n",
    "    return result"
   ]
  },
  {
   "cell_type": "code",
   "execution_count": 12,
   "id": "2b4c5ce3",
   "metadata": {},
   "outputs": [
    {
     "name": "stdout",
     "output_type": "stream",
     "text": [
      "{'a': 6, 'b': 1, 'c': 7}\n"
     ]
    }
   ],
   "source": [
    "input2 = [    \n",
    "    {'key': 'a', 'value': 3},\n",
    "    {'key': 'b', 'value': 1},\n",
    "    {'key': 'c', 'value': 2},\n",
    "    {'key': 'a', 'value': 3},\n",
    "    {'key': 'c', 'value': 5}\n",
    "]\n",
    "print(group_by_key(input2)) # should print {‘a’: 6, ‘b’: 1, ‘c’: 7}"
   ]
  },
  {
   "cell_type": "markdown",
   "id": "a31d6926",
   "metadata": {},
   "source": [
    "<h2>Question 3:</h2>\n",
    "\n",
    "You are required to have self study for the following topic, please submit your study notes. You may be required to present the content when having an interview.\n",
    "Note: Can be in Chinese or English.\n"
   ]
  },
  {
   "cell_type": "markdown",
   "id": "f1224629",
   "metadata": {},
   "source": [
    "<h4>1. What is Git and why is it used?</h4>\n",
    "\n",
    "Git是現今最廣泛使用的一種分散式版本控制系統，可以方便地用來管理軟體專案的原始碼文件，像是：\n",
    "- 記錄各版本的差異、得知備份的原因、追蹤修改者和修改的內容\n",
    "- 切換版本\n",
    "- 利用分支同時開發不同功能"
   ]
  },
  {
   "cell_type": "markdown",
   "id": "eb660cf0",
   "metadata": {},
   "source": [
    "<h4>2. What is the difference between List, Dictionary, Tuple and Set in Python?</h4>\n",
    "\n",
    "- List: 串列，可儲存序列資料(可儲不同型別的資料)。\n",
    "- Dictionary: 字典，和串列很像但須宣告key鍵值來對應儲存的值。\n",
    "- Tuple: 類似於list，但tuple給定元素後不能改變。\n",
    "- Set: 集合的內容元素都必須是獨一無二的。"
   ]
  },
  {
   "cell_type": "code",
   "execution_count": null,
   "id": "ad5c2537",
   "metadata": {},
   "outputs": [],
   "source": []
  }
 ],
 "metadata": {
  "kernelspec": {
   "display_name": "Python 3 (ipykernel)",
   "language": "python",
   "name": "python3"
  },
  "language_info": {
   "codemirror_mode": {
    "name": "ipython",
    "version": 3
   },
   "file_extension": ".py",
   "mimetype": "text/x-python",
   "name": "python",
   "nbconvert_exporter": "python",
   "pygments_lexer": "ipython3",
   "version": "3.9.13"
  }
 },
 "nbformat": 4,
 "nbformat_minor": 5
}
